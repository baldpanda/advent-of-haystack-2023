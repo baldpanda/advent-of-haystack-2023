{
  "nbformat": 4,
  "nbformat_minor": 0,
  "metadata": {
    "colab": {
      "provenance": [],
      "include_colab_link": true
    },
    "kernelspec": {
      "name": "python3",
      "display_name": "Python 3"
    },
    "language_info": {
      "name": "python"
    }
  },
  "cells": [
    {
      "cell_type": "markdown",
      "metadata": {
        "id": "view-in-github",
        "colab_type": "text"
      },
      "source": [
        "<a href=\"https://colab.research.google.com/github/baldpanda/advent-of-haystack-2023/blob/main/day_8/advent_of_haystack_day_8.ipynb\" target=\"_parent\"><img src=\"https://colab.research.google.com/assets/colab-badge.svg\" alt=\"Open In Colab\"/></a>"
      ]
    },
    {
      "cell_type": "markdown",
      "source": [
        "# Advent of Haystack - Day 8\n",
        "\n",
        "Here we have some documents that contain meeting notes (generated with ChatGPT 🤝), and the date of the meeting in the `meta` field.\n",
        "\n",
        "🚀 Your task is to create a custom component that can rank these documents from newets to oldest based on the date field in `meta`. Do this in **Step 3**\n",
        "\n",
        "We have prepared a pipeline that needs to use this component. The pipeline already has a component added with `pipe.add_component(\"recentness\", date_ranker)`."
      ],
      "metadata": {
        "id": "V18t0dxY7G3u"
      }
    },
    {
      "cell_type": "markdown",
      "source": [
        "#Installation\n",
        "**Note:** There is a known issue with colab due to a version conflict error related to `llmx` which comes with Colab. You might get an `llmx` error. You can safely ignore this, or run `pip uninstall -y llmx`"
      ],
      "metadata": {
        "id": "AbrakOGeXui-"
      }
    },
    {
      "cell_type": "code",
      "execution_count": null,
      "metadata": {
        "id": "c-bWpypics6k",
        "colab": {
          "base_uri": "https://localhost:8080/"
        },
        "outputId": "cf012f7d-9c5e-41d2-93e1-9908775745a2"
      },
      "outputs": [
        {
          "output_type": "stream",
          "name": "stdout",
          "text": [
            "Requirement already satisfied: haystack-ai in /usr/local/lib/python3.10/dist-packages (2.0.0b3)\n",
            "Requirement already satisfied: boilerpy3 in /usr/local/lib/python3.10/dist-packages (from haystack-ai) (1.0.7)\n",
            "Requirement already satisfied: jinja2 in /usr/local/lib/python3.10/dist-packages (from haystack-ai) (3.1.2)\n",
            "Requirement already satisfied: lazy-imports in /usr/local/lib/python3.10/dist-packages (from haystack-ai) (0.3.1)\n",
            "Requirement already satisfied: more-itertools in /usr/local/lib/python3.10/dist-packages (from haystack-ai) (10.1.0)\n",
            "Requirement already satisfied: networkx in /usr/local/lib/python3.10/dist-packages (from haystack-ai) (3.2.1)\n",
            "Requirement already satisfied: openai<1.0.0 in /usr/local/lib/python3.10/dist-packages (from haystack-ai) (0.28.1)\n",
            "Requirement already satisfied: pandas in /usr/local/lib/python3.10/dist-packages (from haystack-ai) (1.5.3)\n",
            "Requirement already satisfied: posthog in /usr/local/lib/python3.10/dist-packages (from haystack-ai) (3.1.0)\n",
            "Requirement already satisfied: pyyaml in /usr/local/lib/python3.10/dist-packages (from haystack-ai) (6.0.1)\n",
            "Requirement already satisfied: rank-bm25 in /usr/local/lib/python3.10/dist-packages (from haystack-ai) (0.2.2)\n",
            "Requirement already satisfied: tenacity in /usr/local/lib/python3.10/dist-packages (from haystack-ai) (8.2.3)\n",
            "Requirement already satisfied: tqdm in /usr/local/lib/python3.10/dist-packages (from haystack-ai) (4.66.1)\n",
            "Requirement already satisfied: typing-extensions in /usr/local/lib/python3.10/dist-packages (from haystack-ai) (4.5.0)\n",
            "Requirement already satisfied: requests>=2.20 in /usr/local/lib/python3.10/dist-packages (from openai<1.0.0->haystack-ai) (2.31.0)\n",
            "Requirement already satisfied: aiohttp in /usr/local/lib/python3.10/dist-packages (from openai<1.0.0->haystack-ai) (3.9.1)\n",
            "Requirement already satisfied: MarkupSafe>=2.0 in /usr/local/lib/python3.10/dist-packages (from jinja2->haystack-ai) (2.1.3)\n",
            "Requirement already satisfied: python-dateutil>=2.8.1 in /usr/local/lib/python3.10/dist-packages (from pandas->haystack-ai) (2.8.2)\n",
            "Requirement already satisfied: pytz>=2020.1 in /usr/local/lib/python3.10/dist-packages (from pandas->haystack-ai) (2023.3.post1)\n",
            "Requirement already satisfied: numpy>=1.21.0 in /usr/local/lib/python3.10/dist-packages (from pandas->haystack-ai) (1.23.5)\n",
            "Requirement already satisfied: six>=1.5 in /usr/local/lib/python3.10/dist-packages (from posthog->haystack-ai) (1.16.0)\n",
            "Requirement already satisfied: monotonic>=1.5 in /usr/local/lib/python3.10/dist-packages (from posthog->haystack-ai) (1.6)\n",
            "Requirement already satisfied: backoff>=1.10.0 in /usr/local/lib/python3.10/dist-packages (from posthog->haystack-ai) (2.2.1)\n",
            "Requirement already satisfied: charset-normalizer<4,>=2 in /usr/local/lib/python3.10/dist-packages (from requests>=2.20->openai<1.0.0->haystack-ai) (3.3.2)\n",
            "Requirement already satisfied: idna<4,>=2.5 in /usr/local/lib/python3.10/dist-packages (from requests>=2.20->openai<1.0.0->haystack-ai) (3.6)\n",
            "Requirement already satisfied: urllib3<3,>=1.21.1 in /usr/local/lib/python3.10/dist-packages (from requests>=2.20->openai<1.0.0->haystack-ai) (2.0.7)\n",
            "Requirement already satisfied: certifi>=2017.4.17 in /usr/local/lib/python3.10/dist-packages (from requests>=2.20->openai<1.0.0->haystack-ai) (2023.11.17)\n",
            "Requirement already satisfied: attrs>=17.3.0 in /usr/local/lib/python3.10/dist-packages (from aiohttp->openai<1.0.0->haystack-ai) (23.1.0)\n",
            "Requirement already satisfied: multidict<7.0,>=4.5 in /usr/local/lib/python3.10/dist-packages (from aiohttp->openai<1.0.0->haystack-ai) (6.0.4)\n",
            "Requirement already satisfied: yarl<2.0,>=1.0 in /usr/local/lib/python3.10/dist-packages (from aiohttp->openai<1.0.0->haystack-ai) (1.9.4)\n",
            "Requirement already satisfied: frozenlist>=1.1.1 in /usr/local/lib/python3.10/dist-packages (from aiohttp->openai<1.0.0->haystack-ai) (1.4.0)\n",
            "Requirement already satisfied: aiosignal>=1.1.2 in /usr/local/lib/python3.10/dist-packages (from aiohttp->openai<1.0.0->haystack-ai) (1.3.1)\n",
            "Requirement already satisfied: async-timeout<5.0,>=4.0 in /usr/local/lib/python3.10/dist-packages (from aiohttp->openai<1.0.0->haystack-ai) (4.0.3)\n"
          ]
        }
      ],
      "source": [
        "!pip install haystack-ai"
      ]
    },
    {
      "cell_type": "markdown",
      "source": [
        "### Enabling Telemetry\n",
        "\n",
        "Knowing you’re running this challenge helps us know whether Advent of Haystack is helping people learn about Haystack 2.0-Beta. But you can always opt out by commenting the following line."
      ],
      "metadata": {
        "id": "6dA3YaY5UDSq"
      }
    },
    {
      "cell_type": "code",
      "source": [
        "from haystack.telemetry import tutorial_running\n",
        "\n",
        "tutorial_running(\"challenge_8\")"
      ],
      "metadata": {
        "id": "9kvjEyq-UCqp"
      },
      "execution_count": null,
      "outputs": []
    },
    {
      "cell_type": "markdown",
      "source": [
        "## 1. Set up our Meeting Notes"
      ],
      "metadata": {
        "id": "hiGV9KVA8OQ-"
      }
    },
    {
      "cell_type": "code",
      "source": [
        "import datetime\n",
        "from haystack.dataclasses import Document\n",
        "\n",
        "documents = [Document(content=\"Decision: Prioritize Project A over Project B for the upcoming quarter. Rationale: Project A has a more immediate impact on client satisfaction. Action Items: Project teams to reallocate resources accordingly.\", meta={\"date\": datetime.datetime(2023, 11, 10)}),\n",
        "             Document(content=\"Decision: Revert back to the original plan, prioritizing Project B. Rationale: Client feedback and market analysis indicate higher long-term potential for Project B. Action Items: Project teams to readjust resources, and communicate changes to stakeholders.\", meta={\"date\": datetime.datetime(2023, 11, 12)}),\n",
        "             Document(content=\"Decision: Allocate 20% of the training budget to online courses. Rationale: Online courses offer cost-effective and flexible learning options. Action Items: HR to update the budget and communicate the changes to employees.\", meta={\"date\": datetime.datetime(2023, 11, 11)}),]"
      ],
      "metadata": {
        "id": "E1OCUd8IczrI"
      },
      "execution_count": null,
      "outputs": []
    },
    {
      "cell_type": "markdown",
      "source": [
        "## 2. Create a prompt template and Generator\n",
        "Here, we've created a prompt template that asks for a summary of meeting notes."
      ],
      "metadata": {
        "id": "7Da0lTlG8Tcm"
      }
    },
    {
      "cell_type": "code",
      "source": [
        "from getpass import getpass\n",
        "\n",
        "api_key = getpass(\"OpenAI Key: \")"
      ],
      "metadata": {
        "id": "4IIqPZNEe6YL",
        "colab": {
          "base_uri": "https://localhost:8080/"
        },
        "outputId": "066e0a6f-cdfd-40e1-975d-6a4aa9a4aaa7"
      },
      "execution_count": null,
      "outputs": [
        {
          "name": "stdout",
          "output_type": "stream",
          "text": [
            "OpenAI Key: ··········\n"
          ]
        }
      ]
    },
    {
      "cell_type": "code",
      "source": [
        "from haystack import Pipeline\n",
        "from haystack.components.builders.prompt_builder import PromptBuilder\n",
        "from haystack.components.generators import GPTGenerator\n",
        "\n",
        "prompt_template = \"\"\"\n",
        "You will be provided meeting notes in order. The order is from newest to oldest . Create\n",
        "a summary of the decisions, indicating the progression.\n",
        "\n",
        "Meeting notes in order or recency:\n",
        "{% for document in documents %}\n",
        "  \"Meeting Notes:\"\n",
        "  {{document.content}}\n",
        "{% endfor %}\n",
        "\"\"\"\n",
        "\n",
        "prompt_builder = PromptBuilder(template=prompt_template)\n",
        "llm = GPTGenerator(model_name=\"gpt-4\", api_key=api_key)"
      ],
      "metadata": {
        "id": "2vX5cqDkeTsW"
      },
      "execution_count": null,
      "outputs": []
    },
    {
      "cell_type": "markdown",
      "source": [
        "## 3. Create a custom `DateRanker`\n",
        "\n",
        "Complete the custom component below so as to have a ranker which can rank a List of Documents based on date."
      ],
      "metadata": {
        "id": "xc7gCVSe8d8G"
      }
    },
    {
      "cell_type": "code",
      "source": [
        "sorted(documents, key=lambda x: x.meta['date'], reverse=True)"
      ],
      "metadata": {
        "colab": {
          "base_uri": "https://localhost:8080/"
        },
        "id": "W9moC_Cul0Po",
        "outputId": "ba03cc22-ee65-4514-f126-430394c726ad"
      },
      "execution_count": null,
      "outputs": [
        {
          "output_type": "execute_result",
          "data": {
            "text/plain": [
              "[Document(id=0a758bf69bcda18d52d880b54634a9ed4222b7121fd6d7479f42f392ab82d665, content: 'Decision: Revert back to the original plan, prioritizing Project B. Rationale: Client feedback and m...', meta: {'date': datetime.datetime(2023, 11, 12, 0, 0)}),\n",
              " Document(id=784e5a552e623d66f61028c83381760a9260a9a950ce489791049521902b0015, content: 'Decision: Allocate 20% of the training budget to online courses. Rationale: Online courses offer cos...', meta: {'date': datetime.datetime(2023, 11, 11, 0, 0)}),\n",
              " Document(id=a678b8c411d6d0c63e6884362fb7ad5fb1c7b0176564e8d9804f8f4d8e7a002c, content: 'Decision: Prioritize Project A over Project B for the upcoming quarter. Rationale: Project A has a m...', meta: {'date': datetime.datetime(2023, 11, 10, 0, 0)})]"
            ]
          },
          "metadata": {},
          "execution_count": 17
        }
      ]
    },
    {
      "cell_type": "code",
      "source": [
        "from typing import List, Optional\n",
        "from haystack import component\n",
        "\n",
        "@component\n",
        "class DateRanker():\n",
        "  def __init__(self, date_field: str = \"date\"):\n",
        "    self.date_field = date_field\n",
        "\n",
        "  @component.output_types(documents=List[Document])\n",
        "  def run(self, documents):\n",
        "    return {\"documents\": sorted(documents, key=lambda x: x.meta['date'], reverse=True)}"
      ],
      "metadata": {
        "id": "CMTMh9AkiaZn"
      },
      "execution_count": null,
      "outputs": []
    },
    {
      "cell_type": "code",
      "source": [
        "date_ranker = DateRanker()"
      ],
      "metadata": {
        "id": "5-KcSOutkvk-"
      },
      "execution_count": null,
      "outputs": []
    },
    {
      "cell_type": "markdown",
      "source": [
        "## 4. Create and run the RAG pipeline\n",
        "\n",
        "Below is the pipeline that we would like to run to create a summary of the meeting notes. This pipeline uses a component calles `date_ranker` that you should create in the section above"
      ],
      "metadata": {
        "id": "i2_uYko78yCR"
      }
    },
    {
      "cell_type": "code",
      "source": [
        "pipe = Pipeline()\n",
        "pipe.add_component(\"recentness\", date_ranker)\n",
        "pipe.add_component(\"prompt_builder\", prompt_builder)\n",
        "pipe.add_component(\"llm\", llm)\n",
        "\n",
        "pipe.connect(\"recentness.documents\", \"prompt_builder.documents\")\n",
        "pipe.connect(\"prompt_builder\", \"llm\")"
      ],
      "metadata": {
        "id": "pkCMpI5Jla_F"
      },
      "execution_count": null,
      "outputs": []
    },
    {
      "cell_type": "code",
      "source": [
        "result = pipe.run(data={\"recentness\":{\"documents\": documents}})\n",
        "print(result['llm'][\"replies\"][0])"
      ],
      "metadata": {
        "id": "0fipnYSRlvdC",
        "colab": {
          "base_uri": "https://localhost:8080/"
        },
        "outputId": "927b5068-dfdb-4ce9-f36d-3a8dec5dd37f"
      },
      "execution_count": null,
      "outputs": [
        {
          "output_type": "stream",
          "name": "stdout",
          "text": [
            "Summary:\n",
            "\n",
            "First, the team decided to prioritize Project A over Project B for the upcoming quarter due to its more immediate impact on client satisfaction. The plan involved reallocating resources accordingly. Later on, they decided to allocate 20% of the training budget to online courses as these offer cost-effective  learning options. The HR was tasked with updating the budget and communicating the changes to employees. However, upon further review and client feedback, the team decided to revert back to the original plan of prioritizing Project B due to its higher long-term potential. They planned to readjust resources and communicate these changes to stakeholders.\n"
          ]
        }
      ]
    },
    {
      "cell_type": "code",
      "source": [],
      "metadata": {
        "id": "-r_IpPSwmzCA"
      },
      "execution_count": null,
      "outputs": []
    }
  ]
}