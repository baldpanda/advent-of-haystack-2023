{
  "nbformat": 4,
  "nbformat_minor": 0,
  "metadata": {
    "colab": {
      "provenance": [],
      "gpuType": "T4",
      "include_colab_link": true
    },
    "kernelspec": {
      "name": "python3",
      "display_name": "Python 3"
    },
    "language_info": {
      "name": "python"
    },
    "accelerator": "GPU",
    "widgets": {
      "application/vnd.jupyter.widget-state+json": {
        "e7bd19515acf45249dcad48f2c081d89": {
          "model_module": "@jupyter-widgets/controls",
          "model_name": "HBoxModel",
          "model_module_version": "1.5.0",
          "state": {
            "_dom_classes": [],
            "_model_module": "@jupyter-widgets/controls",
            "_model_module_version": "1.5.0",
            "_model_name": "HBoxModel",
            "_view_count": null,
            "_view_module": "@jupyter-widgets/controls",
            "_view_module_version": "1.5.0",
            "_view_name": "HBoxView",
            "box_style": "",
            "children": [
              "IPY_MODEL_807782dcada442efa67fa786639b0a69",
              "IPY_MODEL_68c2b6b3ea0143b686e04771334fae9d",
              "IPY_MODEL_776bd6b6d35a44ed96e9dbd3bab39247"
            ],
            "layout": "IPY_MODEL_0a8c02adcbf84146addb9d5a3d37a31e"
          }
        },
        "807782dcada442efa67fa786639b0a69": {
          "model_module": "@jupyter-widgets/controls",
          "model_name": "HTMLModel",
          "model_module_version": "1.5.0",
          "state": {
            "_dom_classes": [],
            "_model_module": "@jupyter-widgets/controls",
            "_model_module_version": "1.5.0",
            "_model_name": "HTMLModel",
            "_view_count": null,
            "_view_module": "@jupyter-widgets/controls",
            "_view_module_version": "1.5.0",
            "_view_name": "HTMLView",
            "description": "",
            "description_tooltip": null,
            "layout": "IPY_MODEL_45bf3c36bc954d93972eee3603440a08",
            "placeholder": "​",
            "style": "IPY_MODEL_32571d3f82a34756a46f6d21ad2c23ca",
            "value": "Batches: 100%"
          }
        },
        "68c2b6b3ea0143b686e04771334fae9d": {
          "model_module": "@jupyter-widgets/controls",
          "model_name": "FloatProgressModel",
          "model_module_version": "1.5.0",
          "state": {
            "_dom_classes": [],
            "_model_module": "@jupyter-widgets/controls",
            "_model_module_version": "1.5.0",
            "_model_name": "FloatProgressModel",
            "_view_count": null,
            "_view_module": "@jupyter-widgets/controls",
            "_view_module_version": "1.5.0",
            "_view_name": "ProgressView",
            "bar_style": "success",
            "description": "",
            "description_tooltip": null,
            "layout": "IPY_MODEL_cf81d227c71a4e0e9fdb72ee16158743",
            "max": 1,
            "min": 0,
            "orientation": "horizontal",
            "style": "IPY_MODEL_72dbe240d3654727864a802ff505175a",
            "value": 1
          }
        },
        "776bd6b6d35a44ed96e9dbd3bab39247": {
          "model_module": "@jupyter-widgets/controls",
          "model_name": "HTMLModel",
          "model_module_version": "1.5.0",
          "state": {
            "_dom_classes": [],
            "_model_module": "@jupyter-widgets/controls",
            "_model_module_version": "1.5.0",
            "_model_name": "HTMLModel",
            "_view_count": null,
            "_view_module": "@jupyter-widgets/controls",
            "_view_module_version": "1.5.0",
            "_view_name": "HTMLView",
            "description": "",
            "description_tooltip": null,
            "layout": "IPY_MODEL_bed8685701e44c2689f1cb2df6a1ffde",
            "placeholder": "​",
            "style": "IPY_MODEL_89b6077ccd2d45a19ad004b6adbbfe4c",
            "value": " 1/1 [00:00&lt;00:00, 17.72it/s]"
          }
        },
        "0a8c02adcbf84146addb9d5a3d37a31e": {
          "model_module": "@jupyter-widgets/base",
          "model_name": "LayoutModel",
          "model_module_version": "1.2.0",
          "state": {
            "_model_module": "@jupyter-widgets/base",
            "_model_module_version": "1.2.0",
            "_model_name": "LayoutModel",
            "_view_count": null,
            "_view_module": "@jupyter-widgets/base",
            "_view_module_version": "1.2.0",
            "_view_name": "LayoutView",
            "align_content": null,
            "align_items": null,
            "align_self": null,
            "border": null,
            "bottom": null,
            "display": null,
            "flex": null,
            "flex_flow": null,
            "grid_area": null,
            "grid_auto_columns": null,
            "grid_auto_flow": null,
            "grid_auto_rows": null,
            "grid_column": null,
            "grid_gap": null,
            "grid_row": null,
            "grid_template_areas": null,
            "grid_template_columns": null,
            "grid_template_rows": null,
            "height": null,
            "justify_content": null,
            "justify_items": null,
            "left": null,
            "margin": null,
            "max_height": null,
            "max_width": null,
            "min_height": null,
            "min_width": null,
            "object_fit": null,
            "object_position": null,
            "order": null,
            "overflow": null,
            "overflow_x": null,
            "overflow_y": null,
            "padding": null,
            "right": null,
            "top": null,
            "visibility": null,
            "width": null
          }
        },
        "45bf3c36bc954d93972eee3603440a08": {
          "model_module": "@jupyter-widgets/base",
          "model_name": "LayoutModel",
          "model_module_version": "1.2.0",
          "state": {
            "_model_module": "@jupyter-widgets/base",
            "_model_module_version": "1.2.0",
            "_model_name": "LayoutModel",
            "_view_count": null,
            "_view_module": "@jupyter-widgets/base",
            "_view_module_version": "1.2.0",
            "_view_name": "LayoutView",
            "align_content": null,
            "align_items": null,
            "align_self": null,
            "border": null,
            "bottom": null,
            "display": null,
            "flex": null,
            "flex_flow": null,
            "grid_area": null,
            "grid_auto_columns": null,
            "grid_auto_flow": null,
            "grid_auto_rows": null,
            "grid_column": null,
            "grid_gap": null,
            "grid_row": null,
            "grid_template_areas": null,
            "grid_template_columns": null,
            "grid_template_rows": null,
            "height": null,
            "justify_content": null,
            "justify_items": null,
            "left": null,
            "margin": null,
            "max_height": null,
            "max_width": null,
            "min_height": null,
            "min_width": null,
            "object_fit": null,
            "object_position": null,
            "order": null,
            "overflow": null,
            "overflow_x": null,
            "overflow_y": null,
            "padding": null,
            "right": null,
            "top": null,
            "visibility": null,
            "width": null
          }
        },
        "32571d3f82a34756a46f6d21ad2c23ca": {
          "model_module": "@jupyter-widgets/controls",
          "model_name": "DescriptionStyleModel",
          "model_module_version": "1.5.0",
          "state": {
            "_model_module": "@jupyter-widgets/controls",
            "_model_module_version": "1.5.0",
            "_model_name": "DescriptionStyleModel",
            "_view_count": null,
            "_view_module": "@jupyter-widgets/base",
            "_view_module_version": "1.2.0",
            "_view_name": "StyleView",
            "description_width": ""
          }
        },
        "cf81d227c71a4e0e9fdb72ee16158743": {
          "model_module": "@jupyter-widgets/base",
          "model_name": "LayoutModel",
          "model_module_version": "1.2.0",
          "state": {
            "_model_module": "@jupyter-widgets/base",
            "_model_module_version": "1.2.0",
            "_model_name": "LayoutModel",
            "_view_count": null,
            "_view_module": "@jupyter-widgets/base",
            "_view_module_version": "1.2.0",
            "_view_name": "LayoutView",
            "align_content": null,
            "align_items": null,
            "align_self": null,
            "border": null,
            "bottom": null,
            "display": null,
            "flex": null,
            "flex_flow": null,
            "grid_area": null,
            "grid_auto_columns": null,
            "grid_auto_flow": null,
            "grid_auto_rows": null,
            "grid_column": null,
            "grid_gap": null,
            "grid_row": null,
            "grid_template_areas": null,
            "grid_template_columns": null,
            "grid_template_rows": null,
            "height": null,
            "justify_content": null,
            "justify_items": null,
            "left": null,
            "margin": null,
            "max_height": null,
            "max_width": null,
            "min_height": null,
            "min_width": null,
            "object_fit": null,
            "object_position": null,
            "order": null,
            "overflow": null,
            "overflow_x": null,
            "overflow_y": null,
            "padding": null,
            "right": null,
            "top": null,
            "visibility": null,
            "width": null
          }
        },
        "72dbe240d3654727864a802ff505175a": {
          "model_module": "@jupyter-widgets/controls",
          "model_name": "ProgressStyleModel",
          "model_module_version": "1.5.0",
          "state": {
            "_model_module": "@jupyter-widgets/controls",
            "_model_module_version": "1.5.0",
            "_model_name": "ProgressStyleModel",
            "_view_count": null,
            "_view_module": "@jupyter-widgets/base",
            "_view_module_version": "1.2.0",
            "_view_name": "StyleView",
            "bar_color": null,
            "description_width": ""
          }
        },
        "bed8685701e44c2689f1cb2df6a1ffde": {
          "model_module": "@jupyter-widgets/base",
          "model_name": "LayoutModel",
          "model_module_version": "1.2.0",
          "state": {
            "_model_module": "@jupyter-widgets/base",
            "_model_module_version": "1.2.0",
            "_model_name": "LayoutModel",
            "_view_count": null,
            "_view_module": "@jupyter-widgets/base",
            "_view_module_version": "1.2.0",
            "_view_name": "LayoutView",
            "align_content": null,
            "align_items": null,
            "align_self": null,
            "border": null,
            "bottom": null,
            "display": null,
            "flex": null,
            "flex_flow": null,
            "grid_area": null,
            "grid_auto_columns": null,
            "grid_auto_flow": null,
            "grid_auto_rows": null,
            "grid_column": null,
            "grid_gap": null,
            "grid_row": null,
            "grid_template_areas": null,
            "grid_template_columns": null,
            "grid_template_rows": null,
            "height": null,
            "justify_content": null,
            "justify_items": null,
            "left": null,
            "margin": null,
            "max_height": null,
            "max_width": null,
            "min_height": null,
            "min_width": null,
            "object_fit": null,
            "object_position": null,
            "order": null,
            "overflow": null,
            "overflow_x": null,
            "overflow_y": null,
            "padding": null,
            "right": null,
            "top": null,
            "visibility": null,
            "width": null
          }
        },
        "89b6077ccd2d45a19ad004b6adbbfe4c": {
          "model_module": "@jupyter-widgets/controls",
          "model_name": "DescriptionStyleModel",
          "model_module_version": "1.5.0",
          "state": {
            "_model_module": "@jupyter-widgets/controls",
            "_model_module_version": "1.5.0",
            "_model_name": "DescriptionStyleModel",
            "_view_count": null,
            "_view_module": "@jupyter-widgets/base",
            "_view_module_version": "1.2.0",
            "_view_name": "StyleView",
            "description_width": ""
          }
        }
      }
    }
  },
  "cells": [
    {
      "cell_type": "markdown",
      "metadata": {
        "id": "view-in-github",
        "colab_type": "text"
      },
      "source": [
        "<a href=\"https://colab.research.google.com/github/baldpanda/advent-of-haystack-2023/blob/main/day_6/advent_of_haystack_day_6.ipynb\" target=\"_parent\"><img src=\"https://colab.research.google.com/assets/colab-badge.svg\" alt=\"Open In Colab\"/></a>"
      ]
    },
    {
      "cell_type": "markdown",
      "source": [
        "# Advent of Haystack - Day 6\n",
        "_Make a copy of this Colab to start!_\n",
        "\n",
        "\n",
        "In this challenge, you will help Elf Bilge to preprocess the winter reports before indexing them to a DocumentStore for RAG applications.\n",
        "\n",
        "Your task is to complete the code in **Section 1**\n",
        "\n",
        "- [`FileTypeRouter`](https://docs.haystack.deepset.ai/v2.0/docs/filetyperouter): This component will help you route files based on their corresponding MIME type to different components\n",
        "\n",
        "- [`MarkdownToDocument`](https://docs.haystack.deepset.ai/v2.0/docs/markdowntodocument): This component will help you convert markdown files into Haystack Documents\n",
        "\n",
        "- [`PyPDFToDocument`](https://docs.haystack.deepset.ai/v2.0/docs/pypdftodocument): This component will help you convert pdf files into Haystack Documents\n",
        "\n",
        "- [`TextFileToDocument`](https://docs.haystack.deepset.ai/v2.0/docs/textfiletodocument): This component will help you convert text files into Haystack Documents\n",
        "\n",
        "- [`DocumentJoiner`](https://docs.haystack.deepset.ai/v2.0/docs/documentjoiner): This component will help you to join Documents coming from different branches of a pipeline\n",
        "\n",
        "- [`DocumentCleaner`](https://docs.haystack.deepset.ai/v2.0/docs/documentcleaner) (optional): This component will help you to make Documents more readable by removing extra whitespaces etc.\n",
        "\n",
        "- [`DocumentSplitter`](https://docs.haystack.deepset.ai/v2.0/docs/documentsplitter): This component will help you to split your Document into chunks\n",
        "\n",
        "- [`SentenceTransformersDocumentEmbedder`](https://docs.haystack.deepset.ai/v2.0/docs/sentencetransformersdocumentembedder): This component will help you create embeddings for Documents.\n",
        "\n",
        "- [`DocumentWriter`](https://docs.haystack.deepset.ai/v2.0/docs/documentwriter): This component will help you write Documents into the DocumentStore"
      ],
      "metadata": {
        "id": "zAKy_OPy81EZ"
      }
    },
    {
      "cell_type": "markdown",
      "source": [
        "#Installation\n",
        "**Note:** There is a known issue with colab due to a version conflict error related to `llmx` which comes with Colab. You might get an `llmx` error. You can safely ignore this, or run `pip uninstall -y llmx`"
      ],
      "metadata": {
        "id": "-jqXfaXRXk5R"
      }
    },
    {
      "cell_type": "code",
      "source": [
        "%%bash\n",
        "pip install haystack-ai\n",
        "pip install transformers[torch,sentencepiece]==4.32.1 sentence-transformers>=2.2.0\n",
        "pip install markdown-it-py mdit_plain\n",
        "pip install pypdf"
      ],
      "metadata": {
        "id": "2mP4empwf_x4",
        "colab": {
          "base_uri": "https://localhost:8080/"
        },
        "outputId": "f972a313-b68e-429c-f51c-26bbd836ad9d"
      },
      "execution_count": null,
      "outputs": [
        {
          "output_type": "stream",
          "name": "stdout",
          "text": [
            "Requirement already satisfied: haystack-ai in /usr/local/lib/python3.10/dist-packages (2.0.0b2)\n",
            "Requirement already satisfied: jinja2 in /usr/local/lib/python3.10/dist-packages (from haystack-ai) (3.1.2)\n",
            "Requirement already satisfied: lazy-imports in /usr/local/lib/python3.10/dist-packages (from haystack-ai) (0.3.1)\n",
            "Requirement already satisfied: more-itertools in /usr/local/lib/python3.10/dist-packages (from haystack-ai) (10.1.0)\n",
            "Requirement already satisfied: networkx in /usr/local/lib/python3.10/dist-packages (from haystack-ai) (3.2.1)\n",
            "Requirement already satisfied: openai<1.0.0 in /usr/local/lib/python3.10/dist-packages (from haystack-ai) (0.28.1)\n",
            "Requirement already satisfied: pandas in /usr/local/lib/python3.10/dist-packages (from haystack-ai) (1.5.3)\n",
            "Requirement already satisfied: posthog in /usr/local/lib/python3.10/dist-packages (from haystack-ai) (3.1.0)\n",
            "Requirement already satisfied: pyyaml in /usr/local/lib/python3.10/dist-packages (from haystack-ai) (6.0.1)\n",
            "Requirement already satisfied: rank-bm25 in /usr/local/lib/python3.10/dist-packages (from haystack-ai) (0.2.2)\n",
            "Requirement already satisfied: tenacity in /usr/local/lib/python3.10/dist-packages (from haystack-ai) (8.2.3)\n",
            "Requirement already satisfied: tqdm in /usr/local/lib/python3.10/dist-packages (from haystack-ai) (4.66.1)\n",
            "Requirement already satisfied: typing-extensions in /usr/local/lib/python3.10/dist-packages (from haystack-ai) (4.5.0)\n",
            "Requirement already satisfied: requests>=2.20 in /usr/local/lib/python3.10/dist-packages (from openai<1.0.0->haystack-ai) (2.31.0)\n",
            "Requirement already satisfied: aiohttp in /usr/local/lib/python3.10/dist-packages (from openai<1.0.0->haystack-ai) (3.9.1)\n",
            "Requirement already satisfied: MarkupSafe>=2.0 in /usr/local/lib/python3.10/dist-packages (from jinja2->haystack-ai) (2.1.3)\n",
            "Requirement already satisfied: python-dateutil>=2.8.1 in /usr/local/lib/python3.10/dist-packages (from pandas->haystack-ai) (2.8.2)\n",
            "Requirement already satisfied: pytz>=2020.1 in /usr/local/lib/python3.10/dist-packages (from pandas->haystack-ai) (2023.3.post1)\n",
            "Requirement already satisfied: numpy>=1.21.0 in /usr/local/lib/python3.10/dist-packages (from pandas->haystack-ai) (1.23.5)\n",
            "Requirement already satisfied: six>=1.5 in /usr/local/lib/python3.10/dist-packages (from posthog->haystack-ai) (1.16.0)\n",
            "Requirement already satisfied: monotonic>=1.5 in /usr/local/lib/python3.10/dist-packages (from posthog->haystack-ai) (1.6)\n",
            "Requirement already satisfied: backoff>=1.10.0 in /usr/local/lib/python3.10/dist-packages (from posthog->haystack-ai) (2.2.1)\n",
            "Requirement already satisfied: charset-normalizer<4,>=2 in /usr/local/lib/python3.10/dist-packages (from requests>=2.20->openai<1.0.0->haystack-ai) (3.3.2)\n",
            "Requirement already satisfied: idna<4,>=2.5 in /usr/local/lib/python3.10/dist-packages (from requests>=2.20->openai<1.0.0->haystack-ai) (3.6)\n",
            "Requirement already satisfied: urllib3<3,>=1.21.1 in /usr/local/lib/python3.10/dist-packages (from requests>=2.20->openai<1.0.0->haystack-ai) (2.0.7)\n",
            "Requirement already satisfied: certifi>=2017.4.17 in /usr/local/lib/python3.10/dist-packages (from requests>=2.20->openai<1.0.0->haystack-ai) (2023.11.17)\n",
            "Requirement already satisfied: attrs>=17.3.0 in /usr/local/lib/python3.10/dist-packages (from aiohttp->openai<1.0.0->haystack-ai) (23.1.0)\n",
            "Requirement already satisfied: multidict<7.0,>=4.5 in /usr/local/lib/python3.10/dist-packages (from aiohttp->openai<1.0.0->haystack-ai) (6.0.4)\n",
            "Requirement already satisfied: yarl<2.0,>=1.0 in /usr/local/lib/python3.10/dist-packages (from aiohttp->openai<1.0.0->haystack-ai) (1.9.4)\n",
            "Requirement already satisfied: frozenlist>=1.1.1 in /usr/local/lib/python3.10/dist-packages (from aiohttp->openai<1.0.0->haystack-ai) (1.4.0)\n",
            "Requirement already satisfied: aiosignal>=1.1.2 in /usr/local/lib/python3.10/dist-packages (from aiohttp->openai<1.0.0->haystack-ai) (1.3.1)\n",
            "Requirement already satisfied: async-timeout<5.0,>=4.0 in /usr/local/lib/python3.10/dist-packages (from aiohttp->openai<1.0.0->haystack-ai) (4.0.3)\n",
            "Requirement already satisfied: markdown-it-py in /usr/local/lib/python3.10/dist-packages (3.0.0)\n",
            "Requirement already satisfied: mdit_plain in /usr/local/lib/python3.10/dist-packages (1.0.1)\n",
            "Requirement already satisfied: mdurl~=0.1 in /usr/local/lib/python3.10/dist-packages (from markdown-it-py) (0.1.2)\n",
            "Requirement already satisfied: pypdf in /usr/local/lib/python3.10/dist-packages (3.17.2)\n"
          ]
        }
      ]
    },
    {
      "cell_type": "markdown",
      "source": [
        "### Enabling Telemetry\n",
        "\n",
        "Knowing you’re running this challenge helps us know whether Advent of Haystack is helping people learn about Haystack 2.0-Beta. But you can always opt out by commenting the following line."
      ],
      "metadata": {
        "id": "sTjQ8eEQSpVX"
      }
    },
    {
      "cell_type": "code",
      "source": [
        "from haystack.telemetry import tutorial_running\n",
        "\n",
        "tutorial_running(\"challenge_6\")"
      ],
      "metadata": {
        "id": "mM1VMVcbSn8E"
      },
      "execution_count": null,
      "outputs": []
    },
    {
      "cell_type": "markdown",
      "source": [
        "## Download All Winter Reports\n",
        "\n",
        "All required files will be downloaded into this Colab notebook. You can see these files in \"files\" tab on the left."
      ],
      "metadata": {
        "id": "7GWbC28fX0Yp"
      }
    },
    {
      "cell_type": "code",
      "source": [
        "!gdown https://drive.google.com/drive/folders/1vNeCG0Vgnri9DvIr_MRURV0S8QNWs08r -O /content --folder"
      ],
      "metadata": {
        "colab": {
          "base_uri": "https://localhost:8080/"
        },
        "id": "8wIRuFcTIKF1",
        "outputId": "9759d940-53a3-4fb2-a51f-d96366ace273"
      },
      "execution_count": null,
      "outputs": [
        {
          "output_type": "stream",
          "name": "stdout",
          "text": [
            "Retrieving folder list\n",
            "Processing file 1_2qWYxIfDO-_eQLSJZq_RPwlA7MM46W0 winter_report_one.txt\n",
            "Processing file 1MvI5ntTxHs1nYXRIFRMCba3uJh_ZYsOV winter_report_three.md\n",
            "Processing file 1WFswkWuwzMgLs4DFEcfiLXuRy_g-TmRd winter_report_two.pdf\n",
            "Retrieving folder list completed\n",
            "Building directory structure\n",
            "Building directory structure completed\n",
            "Downloading...\n",
            "From: https://drive.google.com/uc?id=1_2qWYxIfDO-_eQLSJZq_RPwlA7MM46W0\n",
            "To: /content/winter_report_one.txt\n",
            "100% 2.39k/2.39k [00:00<00:00, 12.8MB/s]\n",
            "Downloading...\n",
            "From: https://drive.google.com/uc?id=1MvI5ntTxHs1nYXRIFRMCba3uJh_ZYsOV\n",
            "To: /content/winter_report_three.md\n",
            "100% 2.51k/2.51k [00:00<00:00, 10.1MB/s]\n",
            "Downloading...\n",
            "From: https://drive.google.com/uc?id=1WFswkWuwzMgLs4DFEcfiLXuRy_g-TmRd\n",
            "To: /content/winter_report_two.pdf\n",
            "100% 61.1k/61.1k [00:00<00:00, 2.40MB/s]\n",
            "Download completed\n"
          ]
        }
      ]
    },
    {
      "cell_type": "markdown",
      "source": [
        "## 1) Create a Pipeline to Index Documents"
      ],
      "metadata": {
        "id": "DIaOlFK7YFIi"
      }
    },
    {
      "cell_type": "code",
      "source": [
        "from haystack.components.writers import DocumentWriter\n",
        "from haystack.components.converters import MarkdownToDocument, PyPDFToDocument, TextFileToDocument\n",
        "from haystack.components.preprocessors import DocumentSplitter, DocumentCleaner\n",
        "from haystack.components.routers import FileTypeRouter, DocumentJoiner\n",
        "from haystack.components.embedders import SentenceTransformersDocumentEmbedder\n",
        "from haystack.pipeline import Pipeline\n",
        "from haystack.document_stores import InMemoryDocumentStore\n",
        "\n",
        "document_store = InMemoryDocumentStore()\n",
        "file_type_router = FileTypeRouter(mime_types=[\"text/plain\", \"application/pdf\"])\n",
        "######## Initialize the necessary components with relevant parameters #############\n",
        "text_file_converter = TextFileToDocument()\n",
        "markdown_converter = MarkdownToDocument()\n",
        "pdf_converter = PyPDFToDocument()\n",
        "document_splitter = DocumentSplitter()\n",
        "document_joiner = DocumentJoiner()\n",
        "\n",
        "\n",
        "\n",
        "####################################################################################\n",
        "document_embedder = SentenceTransformersDocumentEmbedder(model_name_or_path=\"sentence-transformers/all-MiniLM-L6-v2\")\n",
        "document_writer = DocumentWriter(document_store)"
      ],
      "metadata": {
        "id": "4yGXKHEXIZxi"
      },
      "execution_count": null,
      "outputs": []
    },
    {
      "cell_type": "markdown",
      "source": [
        "### Add components to the preprocessing pipeline"
      ],
      "metadata": {
        "id": "S-a94cpc_9Vj"
      }
    },
    {
      "cell_type": "code",
      "source": [
        "preprocessing_pipeline = Pipeline()\n",
        "preprocessing_pipeline.add_component(instance=file_type_router, name=\"file_type_router\")\n",
        "preprocessing_pipeline.add_component(instance=text_file_converter, name=\"text_file_converter\")\n",
        "preprocessing_pipeline.add_component(instance=markdown_converter, name=\"markdown_converter\")\n",
        "preprocessing_pipeline.add_component(instance=pdf_converter, name=\"pypdf_converter\")\n",
        "######## Add new components to the pipeline #############\n",
        "preprocessing_pipeline.add_component(instance=document_splitter, name=\"document_splitter\")\n",
        "preprocessing_pipeline.add_component(instance=document_joiner, name=\"document_joiner\")\n",
        "preprocessing_pipeline.add_component(instance=document_embedder, name=\"document_embedder\")\n",
        "preprocessing_pipeline.add_component(instance=document_writer, name=\"document_writer\")\n",
        "\n",
        "\n",
        "\n",
        "\n",
        "##########################################################"
      ],
      "metadata": {
        "id": "ekBeGh6-_982"
      },
      "execution_count": null,
      "outputs": []
    },
    {
      "cell_type": "markdown",
      "source": [
        "### Connect all components"
      ],
      "metadata": {
        "id": "Dhkc-E_3_5Cx"
      }
    },
    {
      "cell_type": "code",
      "source": [
        "preprocessing_pipeline.connect(\"file_type_router.text/plain\", \"text_file_converter.sources\")\n",
        "preprocessing_pipeline.connect(\"file_type_router.application/pdf\", \"pypdf_converter.sources\")\n",
        "preprocessing_pipeline.connect(\"file_type_router.unclassified\", \"markdown_converter.sources\")\n",
        "######## Complete this section with the rest of the connections #############\n",
        "preprocessing_pipeline.connect(\"text_file_converter.documents\", \"document_joiner.documents\")\n",
        "preprocessing_pipeline.connect(\"pypdf_converter.documents\", \"document_joiner.documents\")\n",
        "preprocessing_pipeline.connect(\"markdown_converter.documents\", \"document_joiner.documents\")\n",
        "preprocessing_pipeline.connect(\"document_joiner.documents\", \"document_splitter.documents\")\n",
        "preprocessing_pipeline.connect(\"document_splitter.documents\", \"document_embedder.documents\")\n",
        "preprocessing_pipeline.connect(\"document_embedder.documents\", \"document_writer.documents\")\n",
        "\n",
        "\n",
        "\n",
        "\n",
        "\n",
        "\n",
        "#############################################################################"
      ],
      "metadata": {
        "id": "QXcrKS1h_4XE"
      },
      "execution_count": null,
      "outputs": []
    },
    {
      "cell_type": "code",
      "source": [
        "preprocessing_pipeline.draw(\"preprocessing_pipeline.png\")"
      ],
      "metadata": {
        "id": "tawJyaahYO7K"
      },
      "execution_count": null,
      "outputs": []
    },
    {
      "cell_type": "code",
      "source": [
        "preprocessing_pipeline.run({\n",
        "    \"file_type_router\": {\"sources\":[\"/content/winter_report_one.txt\",\n",
        "                                    \"/content/winter_report_two.pdf\",\n",
        "                                    \"/content/winter_report_three.md\"]}\n",
        "})"
      ],
      "metadata": {
        "id": "9Mw5kwZiqehc"
      },
      "execution_count": null,
      "outputs": []
    },
    {
      "cell_type": "markdown",
      "source": [
        "## 2) Test Your System\n",
        "\n",
        "Run this code and you’ll be prompted to enter your openAI credentials. If you don’t have a key, [follow these instructions](https://help.openai.com/en/articles/4936850-where-do-i-find-my-api-key)."
      ],
      "metadata": {
        "id": "16PnegDR2EmY"
      }
    },
    {
      "cell_type": "code",
      "source": [
        "from getpass import getpass\n",
        "\n",
        "api_key = getpass(\"OpenAI API Key: \")"
      ],
      "metadata": {
        "id": "bB344ADZr-eG",
        "colab": {
          "base_uri": "https://localhost:8080/"
        },
        "outputId": "6de91368-9660-40d9-b71d-b6f219942a41"
      },
      "execution_count": null,
      "outputs": [
        {
          "name": "stdout",
          "output_type": "stream",
          "text": [
            "OpenAI API Key: ··········\n"
          ]
        }
      ]
    },
    {
      "cell_type": "code",
      "source": [
        "from haystack.components.embedders import SentenceTransformersTextEmbedder\n",
        "from haystack.components.retrievers import InMemoryEmbeddingRetriever\n",
        "from haystack.components.builders import PromptBuilder\n",
        "from haystack.components.generators import GPTGenerator\n",
        "\n",
        "template = \"\"\"\n",
        "You are a wise elf living in the forest with other elves.\n",
        "You will be provided with some context from Elves' yearly winter reports.\n",
        "Answer the questions from other elves based on the given context as if you are an elf as well.\n",
        "\n",
        "Context:\n",
        "{% for document in documents %}\n",
        "    {{ document.content }}\n",
        "{% endfor %}\n",
        "\n",
        "Question: {{ question }}\n",
        "Answer:\n",
        "\"\"\"\n",
        "pipe = Pipeline()\n",
        "pipe.add_component(\"embedder\", SentenceTransformersTextEmbedder(model_name_or_path=\"sentence-transformers/all-MiniLM-L6-v2\"))\n",
        "pipe.add_component(\"retriever\", InMemoryEmbeddingRetriever(document_store=document_store))\n",
        "pipe.add_component(\"prompt_builder\", PromptBuilder(template=template))\n",
        "pipe.add_component(\"llm\", GPTGenerator(api_key=api_key))\n",
        "pipe.connect(\"embedder.embedding\", \"retriever.query_embedding\")\n",
        "pipe.connect(\"retriever\", \"prompt_builder.documents\")\n",
        "pipe.connect(\"prompt_builder\", \"llm\")"
      ],
      "metadata": {
        "id": "_s--8xEWq8Y9"
      },
      "execution_count": null,
      "outputs": []
    },
    {
      "cell_type": "code",
      "source": [
        "query = \"What should we do against water scarcity?\"\n",
        "# query = \"Give me one example of nice moment they we had in past winters\"\n",
        "# query = \"Which foods should we collect?\"\n",
        "\n",
        "pipe.run({\n",
        "    \"embedder\": {\"text\": query},\n",
        "    \"prompt_builder\": {\n",
        "        \"question\": query\n",
        "    }\n",
        "})"
      ],
      "metadata": {
        "colab": {
          "base_uri": "https://localhost:8080/",
          "height": 275,
          "referenced_widgets": [
            "e7bd19515acf45249dcad48f2c081d89",
            "807782dcada442efa67fa786639b0a69",
            "68c2b6b3ea0143b686e04771334fae9d",
            "776bd6b6d35a44ed96e9dbd3bab39247",
            "0a8c02adcbf84146addb9d5a3d37a31e",
            "45bf3c36bc954d93972eee3603440a08",
            "32571d3f82a34756a46f6d21ad2c23ca",
            "cf81d227c71a4e0e9fdb72ee16158743",
            "72dbe240d3654727864a802ff505175a",
            "bed8685701e44c2689f1cb2df6a1ffde",
            "89b6077ccd2d45a19ad004b6adbbfe4c"
          ]
        },
        "id": "qDqrU5emtBWQ",
        "outputId": "f94a6a5b-afa4-4b1b-8313-5dba6196de4b"
      },
      "execution_count": null,
      "outputs": [
        {
          "output_type": "display_data",
          "data": {
            "text/plain": [
              "Batches:   0%|          | 0/1 [00:00<?, ?it/s]"
            ],
            "application/vnd.jupyter.widget-view+json": {
              "version_major": 2,
              "version_minor": 0,
              "model_id": "e7bd19515acf45249dcad48f2c081d89"
            }
          },
          "metadata": {}
        },
        {
          "output_type": "stream",
          "name": "stderr",
          "text": [
            "WARNING:haystack.document_stores.in_memory.document_store:No Documents found with embeddings. Returning empty list. To generate embeddings, use a DocumentEmbedder.\n"
          ]
        },
        {
          "output_type": "execute_result",
          "data": {
            "text/plain": [
              "{'llm': {'replies': ['During the winter months, the water sources in the forest tend to freeze, leading to water scarcity for us elves. To combat this issue, we should start by practicing water conservation techniques. We can collect and store rainwater during the warmer months in barrels or other containers. Additionally, we should limit excessive water usage and ensure that there are no leaks in our homes or other structures. We can also try to find alternative water sources, such as melting ice or snow, but precautions should be taken to ensure the water is safe for consumption. Finally, we should explore ways to preserve and protect our existing water sources, such as planting trees to maintain the water table and prevent erosion. By being mindful of our water usage and implementing these measures, we can alleviate the challenges of water scarcity during the winter.'],\n",
              "  'metadata': [{'model': 'gpt-3.5-turbo-0613',\n",
              "    'index': 0,\n",
              "    'finish_reason': 'stop',\n",
              "    'usage': {'prompt_tokens': 69,\n",
              "     'completion_tokens': 159,\n",
              "     'total_tokens': 228}}]}}"
            ]
          },
          "metadata": {},
          "execution_count": 25
        }
      ]
    },
    {
      "cell_type": "code",
      "source": [],
      "metadata": {
        "id": "IISDtlARinIT"
      },
      "execution_count": null,
      "outputs": []
    }
  ]
}